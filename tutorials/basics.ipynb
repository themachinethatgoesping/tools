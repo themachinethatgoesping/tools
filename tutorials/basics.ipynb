version https://git-lfs.github.com/spec/v1
oid sha256:4c33f1410330fe3cdfa3eb3f86c8232c6e568dcbbc2f3e90252ab51acd463531
size 1075
