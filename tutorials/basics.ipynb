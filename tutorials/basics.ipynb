version https://git-lfs.github.com/spec/v1
oid sha256:9d7bd7a58469d3a99e496ae2f64ee0ff4db4a5cb6f90344702ad5ac4e8820f5e
size 1281
