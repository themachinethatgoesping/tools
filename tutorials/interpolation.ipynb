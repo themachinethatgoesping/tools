version https://git-lfs.github.com/spec/v1
oid sha256:722fe36dec379a9a2fdc09fb1e21271781334ced8ece13cd162b88f6f3dfe8c6
size 3738
